{
 "cells": [
  {
   "cell_type": "code",
   "execution_count": 35,
   "metadata": {
    "collapsed": false,
    "scrolled": true
   },
   "outputs": [
    {
     "data": {
      "text/plain": [
       "<module 'GoogleTrendsAPI' from 'C:\\\\Users\\\\Guus\\\\stack\\\\Documenten\\\\UGent\\\\MaStat\\\\Thesis\\\\CryptocurrencySentimentAnalysis\\\\Code\\\\src\\\\GoogleTrendsAPI.py'>"
      ]
     },
     "execution_count": 35,
     "metadata": {},
     "output_type": "execute_result"
    }
   ],
   "source": [
    "import os, sys\n",
    "import importlib\n",
    "module_path = os.path.abspath(os.path.join('../src'))\n",
    "if module_path not in sys.path:\n",
    "    sys.path.append(module_path)\n",
    "import CryptoCommentsAPI\n",
    "importlib.reload(CryptoCommentsAPI)\n",
    "\n",
    "import CryptoValuesAPI\n",
    "importlib.reload(CryptoValuesAPI)\n",
    "\n",
    "import GoogleTrendsAPI\n",
    "importlib.reload(GoogleTrendsAPI)"
   ]
  },
  {
   "cell_type": "markdown",
   "metadata": {},
   "source": [
    "# Fetch comment data\n",
    "\n",
    "The Reddit API is used to fetch data from the CryptoCurrency subreddit on posts and all the reactions in the form of comments and all their statistics. This data has to be transformed into the independent variables to be able to create a prediction model."
   ]
  },
  {
   "cell_type": "code",
   "execution_count": 36,
   "metadata": {
    "collapsed": false
   },
   "outputs": [],
   "source": [
    "myCCF = CryptoCommentsAPI.CryptoCommentsFetcher()"
   ]
  },
  {
   "cell_type": "code",
   "execution_count": 37,
   "metadata": {
    "collapsed": true
   },
   "outputs": [],
   "source": [
    "subreddit = 'cryptocurrency'\n",
    "start_unix=1509494400\n",
    "end_unix=1509496400"
   ]
  },
  {
   "cell_type": "code",
   "execution_count": 38,
   "metadata": {
    "collapsed": false
   },
   "outputs": [],
   "source": [
    "comments_df = myCCF.comment_fetcher(subreddit, start_unix, end_unix, save=True)"
   ]
  },
  {
   "cell_type": "markdown",
   "metadata": {},
   "source": [
    "# Fetch price data\n",
    "\n",
    "To fetch the price data of all cryptocurrencies, an API by Coinbase is used. The API allows to extract a list of all the active cryptocurrencies on the market and additionally allows to extract all the daily price data like open, close, high, low, volumefrom and volume to for all currencies."
   ]
  },
  {
   "cell_type": "code",
   "execution_count": 42,
   "metadata": {
    "collapsed": true
   },
   "outputs": [],
   "source": [
    "totdays = 1\n",
    "feb1 = 1517356800"
   ]
  },
  {
   "cell_type": "code",
   "execution_count": 44,
   "metadata": {
    "collapsed": true
   },
   "outputs": [],
   "source": [
    "myCVF = CryptoValuesAPI.CryptoValuesFetcher()"
   ]
  },
  {
   "cell_type": "code",
   "execution_count": 45,
   "metadata": {
    "collapsed": false,
    "scrolled": true
   },
   "outputs": [],
   "source": [
    "values_df = myCVF.getHistDay(feb1, totdays, save=True)"
   ]
  },
  {
   "cell_type": "markdown",
   "metadata": {},
   "source": [
    "# Fetch trends data\n",
    "\n",
    "An API is developed to fetch data from the Google Trends website. As the API is not developed by Google, there are some limits to the number of calls per second to the API. For this study the coinlist that is retreived from the Coinbase API serves as the input list for the Google Trends API. The Google Trends API results daily normalized search statistics between the requested period. "
   ]
  },
  {
   "cell_type": "code",
   "execution_count": 36,
   "metadata": {
    "collapsed": true
   },
   "outputs": [],
   "source": [
    "start = '2018-03-10'\n",
    "end = '2018-03-17'"
   ]
  },
  {
   "cell_type": "code",
   "execution_count": 37,
   "metadata": {
    "collapsed": false
   },
   "outputs": [],
   "source": [
    "myGTF = GoogleTrendsAPI.GoogleTrendsFetcher()"
   ]
  },
  {
   "cell_type": "code",
   "execution_count": 39,
   "metadata": {
    "collapsed": false,
    "scrolled": true
   },
   "outputs": [],
   "source": [
    "trends_df = myGTF.crypto_trends_fetcher(start, end)"
   ]
  },
  {
   "cell_type": "code",
   "execution_count": null,
   "metadata": {
    "collapsed": true
   },
   "outputs": [],
   "source": [
    "myGTF.missingcoins"
   ]
  }
 ],
 "metadata": {
  "anaconda-cloud": {},
  "kernelspec": {
   "display_name": "Python [conda root]",
   "language": "python",
   "name": "conda-root-py"
  },
  "language_info": {
   "codemirror_mode": {
    "name": "ipython",
    "version": 3
   },
   "file_extension": ".py",
   "mimetype": "text/x-python",
   "name": "python",
   "nbconvert_exporter": "python",
   "pygments_lexer": "ipython3",
   "version": "3.5.4"
  }
 },
 "nbformat": 4,
 "nbformat_minor": 2
}
