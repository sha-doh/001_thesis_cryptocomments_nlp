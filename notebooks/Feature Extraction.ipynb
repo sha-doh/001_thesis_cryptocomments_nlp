{
 "cells": [
  {
   "cell_type": "code",
   "execution_count": 2,
   "metadata": {
    "collapsed": true
   },
   "outputs": [],
   "source": [
    "import spacy\n",
    "import pandas as pd\n",
    "# This code ensures that the modules can be found in the relative directories\n",
    "import os, sys\n",
    "module_path = os.path.abspath(os.path.join('../data'))\n",
    "if module_path not in sys.path:\n",
    "    sys.path.append(module_path)"
   ]
  },
  {
   "cell_type": "code",
   "execution_count": 5,
   "metadata": {
    "collapsed": false
   },
   "outputs": [],
   "source": [
    "CryptoComm = pd.read_csv('../data/cryptocurrency_Top_020118.csv', encoding='utf-8')\n",
    "nlp = spacy.load('en_core_web_sm')\n",
    "CryptoComm['Parsed'] = CryptoComm['CommentText'].apply(nlp)"
   ]
  },
  {
   "cell_type": "markdown",
   "metadata": {},
   "source": [
    "# Feature extraction"
   ]
  },
  {
   "cell_type": "code",
   "execution_count": 37,
   "metadata": {
    "collapsed": false
   },
   "outputs": [],
   "source": [
    "CryptoComm['CommentTime'] = pd.to_datetime(CryptoComm['CommentTime'], format='%Y-%m-%d %H:%M:%S')\n",
    "CryptoComm['PostTime'] = pd.to_datetime(CryptoComm['PostTime'], format='%Y-%m-%d %H:%M:%S')"
   ]
  },
  {
   "cell_type": "code",
   "execution_count": 41,
   "metadata": {
    "collapsed": false
   },
   "outputs": [
    {
     "ename": "AttributeError",
     "evalue": "'Series' object has no attribute 'total_seconds'",
     "output_type": "error",
     "traceback": [
      "\u001b[1;31m---------------------------------------------------------------------------\u001b[0m",
      "\u001b[1;31mAttributeError\u001b[0m                            Traceback (most recent call last)",
      "\u001b[1;32m<ipython-input-41-193bdfa8a8d2>\u001b[0m in \u001b[0;36m<module>\u001b[1;34m()\u001b[0m\n\u001b[0;32m      1\u001b[0m \u001b[0mCryptoComm\u001b[0m\u001b[1;33m[\u001b[0m\u001b[1;34m'TextLen'\u001b[0m\u001b[1;33m]\u001b[0m \u001b[1;33m=\u001b[0m \u001b[0mCryptoComm\u001b[0m\u001b[1;33m[\u001b[0m\u001b[1;34m'CommentText'\u001b[0m\u001b[1;33m]\u001b[0m\u001b[1;33m.\u001b[0m\u001b[0mapply\u001b[0m\u001b[1;33m(\u001b[0m\u001b[0mlen\u001b[0m\u001b[1;33m)\u001b[0m\u001b[1;33m\u001b[0m\u001b[0m\n\u001b[1;32m----> 2\u001b[1;33m \u001b[0mCryptoComm\u001b[0m\u001b[1;33m[\u001b[0m\u001b[1;34m'TimeDiff'\u001b[0m\u001b[1;33m]\u001b[0m \u001b[1;33m=\u001b[0m \u001b[1;33m(\u001b[0m\u001b[0mCryptoComm\u001b[0m\u001b[1;33m.\u001b[0m\u001b[0mCommentTime\u001b[0m \u001b[1;33m-\u001b[0m \u001b[0mCryptoComm\u001b[0m\u001b[1;33m.\u001b[0m\u001b[0mPostTime\u001b[0m\u001b[1;33m)\u001b[0m\u001b[1;33m.\u001b[0m\u001b[0mtotal_seconds\u001b[0m\u001b[1;33m(\u001b[0m\u001b[1;33m)\u001b[0m\u001b[1;33m\u001b[0m\u001b[0m\n\u001b[0m",
      "\u001b[1;32m~\\Anaconda3\\lib\\site-packages\\pandas\\core\\generic.py\u001b[0m in \u001b[0;36m__getattr__\u001b[1;34m(self, name)\u001b[0m\n\u001b[0;32m   2670\u001b[0m             \u001b[1;32mif\u001b[0m \u001b[0mname\u001b[0m \u001b[1;32min\u001b[0m \u001b[0mself\u001b[0m\u001b[1;33m.\u001b[0m\u001b[0m_info_axis\u001b[0m\u001b[1;33m:\u001b[0m\u001b[1;33m\u001b[0m\u001b[0m\n\u001b[0;32m   2671\u001b[0m                 \u001b[1;32mreturn\u001b[0m \u001b[0mself\u001b[0m\u001b[1;33m[\u001b[0m\u001b[0mname\u001b[0m\u001b[1;33m]\u001b[0m\u001b[1;33m\u001b[0m\u001b[0m\n\u001b[1;32m-> 2672\u001b[1;33m             \u001b[1;32mreturn\u001b[0m \u001b[0mobject\u001b[0m\u001b[1;33m.\u001b[0m\u001b[0m__getattribute__\u001b[0m\u001b[1;33m(\u001b[0m\u001b[0mself\u001b[0m\u001b[1;33m,\u001b[0m \u001b[0mname\u001b[0m\u001b[1;33m)\u001b[0m\u001b[1;33m\u001b[0m\u001b[0m\n\u001b[0m\u001b[0;32m   2673\u001b[0m \u001b[1;33m\u001b[0m\u001b[0m\n\u001b[0;32m   2674\u001b[0m     \u001b[1;32mdef\u001b[0m \u001b[0m__setattr__\u001b[0m\u001b[1;33m(\u001b[0m\u001b[0mself\u001b[0m\u001b[1;33m,\u001b[0m \u001b[0mname\u001b[0m\u001b[1;33m,\u001b[0m \u001b[0mvalue\u001b[0m\u001b[1;33m)\u001b[0m\u001b[1;33m:\u001b[0m\u001b[1;33m\u001b[0m\u001b[0m\n",
      "\u001b[1;31mAttributeError\u001b[0m: 'Series' object has no attribute 'total_seconds'"
     ]
    }
   ],
   "source": [
    "CryptoComm['TextLen'] = CryptoComm['CommentText'].apply(len)\n",
    "CryptoComm['TimeDiff'] = (CryptoComm.CommentTime - CryptoComm.PostTime).total_seconds()"
   ]
  },
  {
   "cell_type": "markdown",
   "metadata": {},
   "source": [
    "For extracting the subject of a comment a hierarchy can be analyzed. If the comment is a root comment and there is no crypto subject in the comment, the comment will get the crypto subject of the post. If there is a crypto subject inside the root comment, the comment will get that subject. If the same rule will go for comments inside the branches of a root comment. An algortihm will be created that climbs up to the comment tree until a subject is discoverd. In this way it will always receive the crypto subject that exists closest to the specific comment."
   ]
  },
  {
   "cell_type": "code",
   "execution_count": 39,
   "metadata": {
    "collapsed": false,
    "scrolled": true
   },
   "outputs": [
    {
     "data": {
      "text/html": [
       "<div>\n",
       "<table border=\"1\" class=\"dataframe\">\n",
       "  <thead>\n",
       "    <tr style=\"text-align: right;\">\n",
       "      <th></th>\n",
       "      <th>CommentID</th>\n",
       "      <th>CommentScore</th>\n",
       "      <th>CommentText</th>\n",
       "      <th>CommentTime</th>\n",
       "      <th>Flair</th>\n",
       "      <th>NumComments</th>\n",
       "      <th>ParentID</th>\n",
       "      <th>PostScore</th>\n",
       "      <th>PostTime</th>\n",
       "      <th>Title</th>\n",
       "      <th>Parsed</th>\n",
       "      <th>TextLen</th>\n",
       "      <th>TimeDiff</th>\n",
       "    </tr>\n",
       "  </thead>\n",
       "  <tbody>\n",
       "    <tr>\n",
       "      <th>0</th>\n",
       "      <td>dtjcpps</td>\n",
       "      <td>1</td>\n",
       "      <td>Hi all! Congrats on the rebrand. I’ve just log...</td>\n",
       "      <td>2018-01-31 20:46:05</td>\n",
       "      <td>ANNOUNCEMENT</td>\n",
       "      <td>937</td>\n",
       "      <td>7uahka</td>\n",
       "      <td>4686</td>\n",
       "      <td>2018-01-31 15:04:56</td>\n",
       "      <td>RaiBlocks rebrand to Nano</td>\n",
       "      <td>(Hi, all, !, Congrats, on, the, rebrand, ., I,...</td>\n",
       "      <td>339</td>\n",
       "      <td>05:41:09</td>\n",
       "    </tr>\n",
       "    <tr>\n",
       "      <th>1</th>\n",
       "      <td>dtisk9l</td>\n",
       "      <td>98</td>\n",
       "      <td>besides exchanges we can also expect nano s in...</td>\n",
       "      <td>2018-01-31 15:30:06</td>\n",
       "      <td>ANNOUNCEMENT</td>\n",
       "      <td>937</td>\n",
       "      <td>7uahka</td>\n",
       "      <td>4686</td>\n",
       "      <td>2018-01-31 15:04:56</td>\n",
       "      <td>RaiBlocks rebrand to Nano</td>\n",
       "      <td>(besides, exchanges, we, can, also, expect, na...</td>\n",
       "      <td>56</td>\n",
       "      <td>00:25:10</td>\n",
       "    </tr>\n",
       "    <tr>\n",
       "      <th>2</th>\n",
       "      <td>dtirwv6</td>\n",
       "      <td>528</td>\n",
       "      <td>I guess the Binance listing has waited for thi...</td>\n",
       "      <td>2018-01-31 15:18:50</td>\n",
       "      <td>ANNOUNCEMENT</td>\n",
       "      <td>937</td>\n",
       "      <td>7uahka</td>\n",
       "      <td>4686</td>\n",
       "      <td>2018-01-31 15:04:56</td>\n",
       "      <td>RaiBlocks rebrand to Nano</td>\n",
       "      <td>(I, guess, the, Binance, listing, has, waited,...</td>\n",
       "      <td>84</td>\n",
       "      <td>00:13:54</td>\n",
       "    </tr>\n",
       "    <tr>\n",
       "      <th>3</th>\n",
       "      <td>dtisdhe</td>\n",
       "      <td>390</td>\n",
       "      <td>Rai.Exchange is now NANEX and system status is...</td>\n",
       "      <td>2018-01-31 15:26:51</td>\n",
       "      <td>ANNOUNCEMENT</td>\n",
       "      <td>937</td>\n",
       "      <td>7uahka</td>\n",
       "      <td>4686</td>\n",
       "      <td>2018-01-31 15:04:56</td>\n",
       "      <td>RaiBlocks rebrand to Nano</td>\n",
       "      <td>(Rai, ., Exchange, is, now, NANEX, and, system...</td>\n",
       "      <td>55</td>\n",
       "      <td>00:21:55</td>\n",
       "    </tr>\n",
       "    <tr>\n",
       "      <th>4</th>\n",
       "      <td>dtisj13</td>\n",
       "      <td>565</td>\n",
       "      <td>Nano promo video: https://vimeo.com/253563861</td>\n",
       "      <td>2018-01-31 15:29:31</td>\n",
       "      <td>ANNOUNCEMENT</td>\n",
       "      <td>937</td>\n",
       "      <td>7uahka</td>\n",
       "      <td>4686</td>\n",
       "      <td>2018-01-31 15:04:56</td>\n",
       "      <td>RaiBlocks rebrand to Nano</td>\n",
       "      <td>(Nano, promo, video, :, https://vimeo.com/2535...</td>\n",
       "      <td>45</td>\n",
       "      <td>00:24:35</td>\n",
       "    </tr>\n",
       "  </tbody>\n",
       "</table>\n",
       "</div>"
      ],
      "text/plain": [
       "  CommentID  CommentScore                                        CommentText  \\\n",
       "0   dtjcpps             1  Hi all! Congrats on the rebrand. I’ve just log...   \n",
       "1   dtisk9l            98  besides exchanges we can also expect nano s in...   \n",
       "2   dtirwv6           528  I guess the Binance listing has waited for thi...   \n",
       "3   dtisdhe           390  Rai.Exchange is now NANEX and system status is...   \n",
       "4   dtisj13           565      Nano promo video: https://vimeo.com/253563861   \n",
       "\n",
       "          CommentTime         Flair  NumComments ParentID  PostScore  \\\n",
       "0 2018-01-31 20:46:05  ANNOUNCEMENT          937   7uahka       4686   \n",
       "1 2018-01-31 15:30:06  ANNOUNCEMENT          937   7uahka       4686   \n",
       "2 2018-01-31 15:18:50  ANNOUNCEMENT          937   7uahka       4686   \n",
       "3 2018-01-31 15:26:51  ANNOUNCEMENT          937   7uahka       4686   \n",
       "4 2018-01-31 15:29:31  ANNOUNCEMENT          937   7uahka       4686   \n",
       "\n",
       "             PostTime                      Title  \\\n",
       "0 2018-01-31 15:04:56  RaiBlocks rebrand to Nano   \n",
       "1 2018-01-31 15:04:56  RaiBlocks rebrand to Nano   \n",
       "2 2018-01-31 15:04:56  RaiBlocks rebrand to Nano   \n",
       "3 2018-01-31 15:04:56  RaiBlocks rebrand to Nano   \n",
       "4 2018-01-31 15:04:56  RaiBlocks rebrand to Nano   \n",
       "\n",
       "                                              Parsed  TextLen  TimeDiff  \n",
       "0  (Hi, all, !, Congrats, on, the, rebrand, ., I,...      339  05:41:09  \n",
       "1  (besides, exchanges, we, can, also, expect, na...       56  00:25:10  \n",
       "2  (I, guess, the, Binance, listing, has, waited,...       84  00:13:54  \n",
       "3  (Rai, ., Exchange, is, now, NANEX, and, system...       55  00:21:55  \n",
       "4  (Nano, promo, video, :, https://vimeo.com/2535...       45  00:24:35  "
      ]
     },
     "execution_count": 39,
     "metadata": {},
     "output_type": "execute_result"
    }
   ],
   "source": [
    "CryptoComm.head()"
   ]
  }
 ],
 "metadata": {
  "anaconda-cloud": {},
  "kernelspec": {
   "display_name": "Python [conda root]",
   "language": "python",
   "name": "conda-root-py"
  },
  "language_info": {
   "codemirror_mode": {
    "name": "ipython",
    "version": 3
   },
   "file_extension": ".py",
   "mimetype": "text/x-python",
   "name": "python",
   "nbconvert_exporter": "python",
   "pygments_lexer": "ipython3",
   "version": "3.5.4"
  }
 },
 "nbformat": 4,
 "nbformat_minor": 2
}
